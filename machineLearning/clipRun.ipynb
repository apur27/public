{
 "cells": [
  {
   "cell_type": "code",
   "execution_count": 1,
   "metadata": {},
   "outputs": [
    {
     "name": "stderr",
     "output_type": "stream",
     "text": [
      "Using TensorFlow backend.\n",
      "C:\\ProgramData\\Anaconda3\\lib\\site-packages\\ipykernel_launcher.py:14: UserWarning: Update your `Conv2D` call to the Keras 2 API: `Conv2D(4, (3, 3), input_shape=(64, 64, 3..., activation=\"relu\")`\n",
      "  \n",
      "C:\\ProgramData\\Anaconda3\\lib\\site-packages\\ipykernel_launcher.py:21: UserWarning: Update your `Conv2D` call to the Keras 2 API: `Conv2D(4, (3, 3), activation=\"relu\")`\n",
      "C:\\ProgramData\\Anaconda3\\lib\\site-packages\\ipykernel_launcher.py:25: UserWarning: Update your `Conv2D` call to the Keras 2 API: `Conv2D(4, (3, 3), activation=\"relu\")`\n",
      "C:\\ProgramData\\Anaconda3\\lib\\site-packages\\ipykernel_launcher.py:29: UserWarning: Update your `Conv2D` call to the Keras 2 API: `Conv2D(4, (3, 3), activation=\"relu\")`\n",
      "C:\\ProgramData\\Anaconda3\\lib\\site-packages\\ipykernel_launcher.py:49: UserWarning: Update your `Dense` call to the Keras 2 API: `Dense(activation=\"relu\", units=128)`\n",
      "C:\\ProgramData\\Anaconda3\\lib\\site-packages\\ipykernel_launcher.py:50: UserWarning: Update your `Dense` call to the Keras 2 API: `Dense(activation=\"softmax\", units=4)`\n"
     ]
    },
    {
     "name": "stdout",
     "output_type": "stream",
     "text": [
      "Found 400 images belonging to 4 classes.\n",
      "Found 120 images belonging to 4 classes.\n"
     ]
    },
    {
     "name": "stderr",
     "output_type": "stream",
     "text": [
      "C:\\ProgramData\\Anaconda3\\lib\\site-packages\\ipykernel_launcher.py:86: UserWarning: Update your `fit_generator` call to the Keras 2 API: `fit_generator(<keras.pre..., epochs=3, validation_data=<keras.pre..., callbacks=[<keras.ca..., validation_steps=1000, steps_per_epoch=200)`\n"
     ]
    },
    {
     "name": "stdout",
     "output_type": "stream",
     "text": [
      "Epoch 1/3\n",
      "200/200 [==============================] - 9s - loss: 1.2144 - acc: 0.4380 - val_loss: 1.1137 - val_acc: 0.5075\n",
      "Epoch 2/3\n",
      "200/200 [==============================] - 7s - loss: 0.7560 - acc: 0.6715 - val_loss: 1.0287 - val_acc: 0.5835\n",
      "Epoch 3/3\n",
      "200/200 [==============================] - 7s - loss: 0.5976 - acc: 0.7480 - val_loss: 0.8902 - val_acc: 0.6335\n"
     ]
    }
   ],
   "source": [
    "# Building the CNN\n",
    "\n",
    "from keras.models import Sequential\n",
    "from keras.layers import Convolution2D\n",
    "from keras.layers import MaxPooling2D\n",
    "from keras.layers import Flatten\n",
    "from keras.layers import Dense\n",
    "from keras.models import load_model\n",
    "from keras.callbacks import EarlyStopping\n",
    "# Initializing the CNN\n",
    "classifier = Sequential()\n",
    "\n",
    "# Step 1 - Convolution\n",
    "classifier.add(Convolution2D(4, 3, 3, input_shape = (64, 64, 3),activation = 'relu'))\n",
    "\n",
    "\n",
    "# Step 2 - Max Pooling\n",
    "classifier.add(MaxPooling2D(pool_size = (2,2)))\n",
    "\n",
    "# Adding a second convolution layer\n",
    "classifier.add(Convolution2D(4, 3, 3, activation = 'relu'))\n",
    "classifier.add(MaxPooling2D(pool_size = (2,2)))\n",
    "\n",
    "# Adding a third convolution layer\n",
    "classifier.add(Convolution2D(4, 3, 3, activation = 'relu'))\n",
    "classifier.add(MaxPooling2D(pool_size = (2,2)))\n",
    "\n",
    "# Adding a 4th convolution layer\n",
    "classifier.add(Convolution2D(4, 3, 3, activation = 'relu'))\n",
    "classifier.add(MaxPooling2D(pool_size = (2,2)))\n",
    "\n",
    "# Adding a 5th convolution layer\n",
    "#classifier.add(Convolution2D(64, 3, 3, activation = 'relu'))\n",
    "#classifier.add(MaxPooling2D(pool_size = (2,2)))\n",
    "\n",
    "# Adding a 6th convolution layer\n",
    "#classifier.add(Convolution2D(256, 3, 3, activation = 'relu'))\n",
    "#classifier.add(MaxPooling2D(pool_size = (2,2)))\n",
    "\n",
    "# Adding a 5th convolution layer\n",
    "#classifier.add(Convolution2D(512, 3, 3, activation = 'relu'))\n",
    "#classifier.add(MaxPooling2D(pool_size = (2,2)))\n",
    "\n",
    "# Step 3 - Flattening\n",
    "classifier.add(Flatten())\n",
    "\n",
    "\n",
    "# Step 4 - Full Connection\n",
    "classifier.add(Dense(output_dim = 128, activation= 'relu'))\n",
    "classifier.add(Dense(output_dim = 4,activation= 'softmax'))\n",
    "\n",
    "\n",
    "# Compiling the CNN\n",
    "classifier.compile(optimizer = 'rmsprop', loss = 'sparse_categorical_crossentropy', metrics = ['accuracy'])\n",
    "\n",
    "# Part 2 - Fitting the CNN to the image\n",
    "from keras.preprocessing.image import ImageDataGenerator\n",
    "\n",
    "train_datagen = ImageDataGenerator(\n",
    "        rescale=1./255,\n",
    "        shear_range=0.2,\n",
    "        zoom_range=0.2,\n",
    "        horizontal_flip=True)\n",
    "\n",
    "test_datagen = ImageDataGenerator(rescale=1./255)\n",
    "\n",
    "train_generator = train_datagen.flow_from_directory(\n",
    "        'C:\\\\demo6\\\\TrainingData',\n",
    "        target_size=(64, 64),\n",
    "        batch_size=10,\n",
    "        class_mode='sparse')\n",
    "\n",
    "validation_generator = test_datagen.flow_from_directory(\n",
    "        'C:\\\\demo6\\\\ValidationData',\n",
    "        target_size=(64, 64),\n",
    "        batch_size=2,\n",
    "        class_mode='sparse')\n",
    "early_stopping = EarlyStopping(monitor='acc', patience=15, verbose=1, mode='max')\n",
    "\n",
    "classifier.fit_generator(\n",
    "        train_generator,\n",
    "        samples_per_epoch=2000,     \n",
    "        epochs=3,\n",
    "        validation_data=validation_generator,\n",
    "        callbacks=[early_stopping],\n",
    "        validation_steps=1000)\n",
    "classifier.save('C:\\\\demo6\\\\clipRun.h5')"
   ]
  }
 ],
 "metadata": {
  "kernelspec": {
   "display_name": "Python 3",
   "language": "python",
   "name": "python3"
  },
  "language_info": {
   "codemirror_mode": {
    "name": "ipython",
    "version": 3
   },
   "file_extension": ".py",
   "mimetype": "text/x-python",
   "name": "python",
   "nbconvert_exporter": "python",
   "pygments_lexer": "ipython3",
   "version": "3.6.1"
  }
 },
 "nbformat": 4,
 "nbformat_minor": 2
}
